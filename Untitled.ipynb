{
 "cells": [
  {
   "cell_type": "code",
   "execution_count": 89,
   "id": "55ec1d7b-fde3-4e56-9450-28c139e53e2e",
   "metadata": {},
   "outputs": [],
   "source": [
    "import pandas as pd\n",
    "from jinja2 import Environment, FileSystemLoader\n",
    "from math import log, ceil\n",
    "import re"
   ]
  },
  {
   "cell_type": "code",
   "execution_count": 37,
   "id": "2384a7fe-55de-4100-8e7e-a1afb914a876",
   "metadata": {},
   "outputs": [],
   "source": [
    "data = pd.read_csv(\"./rom.csv\")\n",
    "tits = data.columns"
   ]
  },
  {
   "cell_type": "code",
   "execution_count": 97,
   "id": "c31218ec-0741-4c8d-ab41-dba2da908807",
   "metadata": {},
   "outputs": [
    {
     "name": "stdout",
     "output_type": "stream",
     "text": [
      "module testRom (\n",
      "input address[3],\n",
      "output a[16],  \n",
      "output b[16],  \n",
      "output alufn[6],  \n",
      "output answer[16]  \n",
      "\n",
      "    \n",
      "  ) {\n",
      "const A = { 100,5,-1,1,100,5,-1,1 } ;\n",
      "const B = { 100,5,1,2,100,5,1,2 } ;\n",
      "const ALUFN = { 6b1,6b1,6b1,6b1,6b0,6b0,6b0,6b0 } ;\n",
      "const ANSWER = { 0,0,-2,-1,200,10,0,3 } ;\n",
      "\n",
      "\n",
      "  always {\n",
      "\n",
      "a = A[address];\n",
      "b = B[address];\n",
      "alufn = ALUFN[address];\n",
      "answer = ANSWER[address];\n",
      "\n",
      "\n",
      "  }\n",
      "}\n"
     ]
    }
   ],
   "source": [
    "file_loader = FileSystemLoader('.')\n",
    "env = Environment(loader=file_loader)\n",
    "template = env.get_template('template.luc')\n",
    "output = template.render(titles=tits, data = data, \n",
    "                         reversed = reversed, re=re, log = log,\n",
    "                         len = len, ceil=ceil)\n",
    "print(output)"
   ]
  },
  {
   "cell_type": "code",
   "execution_count": 84,
   "id": "d6beb065-e81b-4dff-a983-8b7e3822ee4f",
   "metadata": {},
   "outputs": [
    {
     "data": {
      "text/plain": [
       "'ALLLLLUFN'"
      ]
     },
     "execution_count": 84,
     "metadata": {},
     "output_type": "execute_result"
    }
   ],
   "source": [
    "s = 'alllllufn[16]'\n",
    "a = re.search(\"(.+)\\[\",s)\n",
    "a.groups()[0]\n",
    "re.search(\"(.+)\\[\",s).groups()[0].upper()"
   ]
  },
  {
   "cell_type": "code",
   "execution_count": 86,
   "id": "438cb2bb-12a0-4b23-95e4-6bcce202a526",
   "metadata": {},
   "outputs": [
    {
     "name": "stdout",
     "output_type": "stream",
     "text": [
      "6b0\n",
      "6b0\n",
      "6b0\n",
      "6b0\n",
      "6b1\n",
      "6b1\n",
      "6b1\n",
      "6b1\n"
     ]
    },
    {
     "data": {
      "text/plain": [
       "[None, None, None, None, None, None, None, None]"
      ]
     },
     "execution_count": 86,
     "metadata": {},
     "output_type": "execute_result"
    }
   ],
   "source": [
    "[print(x) for x in data['alufn[6]'].tolist()]"
   ]
  },
  {
   "cell_type": "code",
   "execution_count": 93,
   "id": "8343bcc0-3b1b-4f19-a237-a8e539e366b9",
   "metadata": {},
   "outputs": [
    {
     "data": {
      "text/plain": [
       "3"
      ]
     },
     "execution_count": 93,
     "metadata": {},
     "output_type": "execute_result"
    }
   ],
   "source": [
    "ceil(log(len(data),2))"
   ]
  }
 ],
 "metadata": {
  "kernelspec": {
   "display_name": "Python 3 (ipykernel)",
   "language": "python",
   "name": "python3"
  },
  "language_info": {
   "codemirror_mode": {
    "name": "ipython",
    "version": 3
   },
   "file_extension": ".py",
   "mimetype": "text/x-python",
   "name": "python",
   "nbconvert_exporter": "python",
   "pygments_lexer": "ipython3",
   "version": "3.9.7"
  }
 },
 "nbformat": 4,
 "nbformat_minor": 5
}
